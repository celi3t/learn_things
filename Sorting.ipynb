{
 "cells": [
  {
   "cell_type": "markdown",
   "metadata": {},
   "source": [
    "Bubble sort"
   ]
  },
  {
   "cell_type": "code",
   "execution_count": 46,
   "metadata": {
    "collapsed": true
   },
   "outputs": [],
   "source": [
    "def bubble_sort(array):\n",
    "    if len(array) < 2:\n",
    "        return array\n",
    "    else:\n",
    "        N = len(array)\n",
    "        output_array=array\n",
    "        first = 0\n",
    "        second = 1\n",
    "        for i in range(N-1):\n",
    "            for s in range(N-1):\n",
    "                if output_array[s] > output_array[s+1]:\n",
    "                    low=output_array[s+1]\n",
    "                    high=output_array[s]\n",
    "                    output_array[s] = low\n",
    "                    output_array[s+1] = high\n",
    "    return output_array\n",
    "            \n",
    "            "
   ]
  },
  {
   "cell_type": "code",
   "execution_count": 122,
   "metadata": {
    "collapsed": false
   },
   "outputs": [
    {
     "name": "stdout",
     "output_type": "stream",
     "text": [
      "[3, 6, 6, 7, 9, 15, 23, 23]\n",
      "[3]\n"
     ]
    }
   ],
   "source": [
    "myarray = [3,6,9,23,15,6,7,23]\n",
    "\n",
    "print bubble_sort(myarray)\n",
    "print bubble_sort([3])"
   ]
  },
  {
   "cell_type": "markdown",
   "metadata": {},
   "source": [
    "Merge sort"
   ]
  },
  {
   "cell_type": "code",
   "execution_count": null,
   "metadata": {
    "collapsed": true
   },
   "outputs": [],
   "source": []
  },
  {
   "cell_type": "code",
   "execution_count": 123,
   "metadata": {
    "collapsed": true
   },
   "outputs": [],
   "source": [
    "def splitarray(aarray):\n",
    "    mid=len(aarray)/2\n",
    "    return (aarray[:mid], aarray[mid:])\n",
    "\n",
    "def mergehelper(rightarray, leftarray):    \n",
    "    right_i=0\n",
    "    left_i=0\n",
    "    merged_list=[]\n",
    "\n",
    "    while right_i<len(rightarray) and left_i<len(leftarray):\n",
    "        if rightarray[right_i] < leftarray[left_i]:\n",
    "            merged_list.append(rightarray[right_i])\n",
    "            right_i +=1\n",
    "        else:\n",
    "            merged_list.append(leftarray[left_i])\n",
    "            left_i +=1\n",
    "\n",
    "    while right_i<len(rightarray):\n",
    "        merged_list.append(rightarray[right_i])\n",
    "        right_i +=1\n",
    "\n",
    "    while left_i<len(leftarray):\n",
    "        merged_list.append(leftarray[left_i])\n",
    "        left_i +=1   \n",
    "    return merged_list\n",
    "\n",
    "def mergesort(array):\n",
    "    if len(array)<2:\n",
    "        return array\n",
    "    \n",
    "    else:\n",
    "        rightarray, leftarray = splitarray(array)\n",
    "        return mergehelper(rightarray, leftarray)\n"
   ]
  },
  {
   "cell_type": "code",
   "execution_count": 125,
   "metadata": {
    "collapsed": false
   },
   "outputs": [
    {
     "name": "stdout",
     "output_type": "stream",
     "text": [
      "8\n",
      "8\n",
      "4\n",
      "([3, 6, 6, 7], [9, 15, 23, 23])\n",
      "[2, 6, 1, 1, 6, 3]\n",
      "[2, 6, 3]\n",
      "[2, 6, 3]\n",
      "8\n",
      "4\n",
      "[3, 6, 6, 7, 9, 15, 23, 23]\n"
     ]
    }
   ],
   "source": [
    "print splitarray(myarray)\n",
    "\n",
    "print mergehelper([2,6,3], [6,1,1])\n",
    "print mergehelper([2,6,3], [])\n",
    "print mergehelper([], [2,6,3])\n",
    "\n",
    "print mergesort(myarray)"
   ]
  },
  {
   "cell_type": "code",
   "execution_count": null,
   "metadata": {
    "collapsed": true
   },
   "outputs": [],
   "source": []
  }
 ],
 "metadata": {
  "kernelspec": {
   "display_name": "Python 2",
   "language": "python",
   "name": "python2"
  },
  "language_info": {
   "codemirror_mode": {
    "name": "ipython",
    "version": 2
   },
   "file_extension": ".py",
   "mimetype": "text/x-python",
   "name": "python",
   "nbconvert_exporter": "python",
   "pygments_lexer": "ipython2",
   "version": "2.7.6"
  }
 },
 "nbformat": 4,
 "nbformat_minor": 0
}
