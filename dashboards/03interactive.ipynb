{
 "cells": [
  {
   "cell_type": "code",
   "execution_count": 47,
   "id": "623814af-a93f-4e06-b757-a436b0a1cb0a",
   "metadata": {},
   "outputs": [],
   "source": [
    "import panel as pn\n",
    "pn.extension(sizing_mode='stretch_width')"
   ]
  },
  {
   "cell_type": "code",
   "execution_count": 48,
   "id": "1e5f42b0-74d0-4bfe-9777-12c11827f17f",
   "metadata": {},
   "outputs": [],
   "source": [
    "import numpy as np\n",
    "import pandas as pd\n",
    "import holoviews as hv\n",
    "import hvplot.pandas # noqa"
   ]
  },
  {
   "cell_type": "markdown",
   "id": "b34c4278-b552-47cb-b43a-9970fe5c7d1d",
   "metadata": {},
   "source": [
    "#### Start with a slider widget as example"
   ]
  },
  {
   "cell_type": "code",
   "execution_count": 49,
   "id": "3ece53e2-7eff-4260-8aad-9466924dacef",
   "metadata": {},
   "outputs": [
    {
     "data": {},
     "metadata": {},
     "output_type": "display_data"
    },
    {
     "data": {
      "application/vnd.holoviews_exec.v0+json": "",
      "text/html": [
       "<div id='1390'>\n",
       "\n",
       "\n",
       "\n",
       "\n",
       "\n",
       "  <div class=\"bk-root\" id=\"8203d099-e553-4135-9879-4c48858dfad1\" data-root-id=\"1390\"></div>\n",
       "</div>\n",
       "<script type=\"application/javascript\">(function(root) {\n",
       "  function embed_document(root) {\n",
       "    var docs_json = {\"e5ff9539-23ec-4166-b1e5-3b57e98f0711\":{\"defs\":[{\"extends\":null,\"module\":null,\"name\":\"ReactiveHTML1\",\"overrides\":[],\"properties\":[]},{\"extends\":null,\"module\":null,\"name\":\"FlexBox1\",\"overrides\":[],\"properties\":[{\"default\":\"flex-start\",\"kind\":null,\"name\":\"align_content\"},{\"default\":\"flex-start\",\"kind\":null,\"name\":\"align_items\"},{\"default\":\"row\",\"kind\":null,\"name\":\"flex_direction\"},{\"default\":\"wrap\",\"kind\":null,\"name\":\"flex_wrap\"},{\"default\":\"flex-start\",\"kind\":null,\"name\":\"justify_content\"}]},{\"extends\":null,\"module\":null,\"name\":\"TemplateActions1\",\"overrides\":[],\"properties\":[{\"default\":0,\"kind\":null,\"name\":\"open_modal\"},{\"default\":0,\"kind\":null,\"name\":\"close_modal\"}]},{\"extends\":null,\"module\":null,\"name\":\"MaterialTemplateActions1\",\"overrides\":[],\"properties\":[{\"default\":0,\"kind\":null,\"name\":\"open_modal\"},{\"default\":0,\"kind\":null,\"name\":\"close_modal\"}]}],\"roots\":{\"references\":[{\"attributes\":{\"end\":9,\"margin\":[5,10,5,10],\"sizing_mode\":\"stretch_width\",\"start\":0,\"step\":0.1,\"title\":\"Max Count\",\"value\":6},\"id\":\"1390\",\"type\":\"Slider\"},{\"attributes\":{\"client_comm_id\":\"968c2e90329d40318ecaaa57858668ca\",\"comm_id\":\"ace14e7078c946b2afdde87da0e8184f\",\"plot_id\":\"1390\"},\"id\":\"1391\",\"type\":\"panel.models.comm_manager.CommManager\"}],\"root_ids\":[\"1390\",\"1391\"]},\"title\":\"Bokeh Application\",\"version\":\"2.3.2\"}};\n",
       "    var render_items = [{\"docid\":\"e5ff9539-23ec-4166-b1e5-3b57e98f0711\",\"root_ids\":[\"1390\"],\"roots\":{\"1390\":\"8203d099-e553-4135-9879-4c48858dfad1\"}}];\n",
       "    root.Bokeh.embed.embed_items_notebook(docs_json, render_items);\n",
       "  }\n",
       "  if (root.Bokeh !== undefined && root.Bokeh.Panel !== undefined) {\n",
       "    embed_document(root);\n",
       "  } else {\n",
       "    var attempts = 0;\n",
       "    var timer = setInterval(function(root) {\n",
       "      if (root.Bokeh !== undefined && root.Bokeh.Panel !== undefined) {\n",
       "        clearInterval(timer);\n",
       "        embed_document(root);\n",
       "      } else if (document.readyState == \"complete\") {\n",
       "        attempts++;\n",
       "        if (attempts > 200) {\n",
       "          clearInterval(timer);\n",
       "          console.log(\"Bokeh: ERROR: Unable to run BokehJS code because BokehJS library is missing\");\n",
       "        }\n",
       "      }\n",
       "    }, 25, root)\n",
       "  }\n",
       "})(window);</script>"
      ],
      "text/plain": [
       "FloatSlider(end=9, name='Max Count', sizing_mode='stretch_width', value=6)"
      ]
     },
     "execution_count": 49,
     "metadata": {
      "application/vnd.holoviews_exec.v0+json": {
       "id": "1390"
      }
     },
     "output_type": "execute_result"
    }
   ],
   "source": [
    "slider = pn.widgets.FloatSlider(name='Max Count', start=0, end=9, value=6)\n",
    "slider"
   ]
  },
  {
   "cell_type": "code",
   "execution_count": 39,
   "id": "b2e29896-35b7-4871-b5ab-6e11d426439c",
   "metadata": {},
   "outputs": [
    {
     "data": {
      "text/plain": [
       "6"
      ]
     },
     "execution_count": 39,
     "metadata": {},
     "output_type": "execute_result"
    }
   ],
   "source": [
    "slider.value"
   ]
  },
  {
   "cell_type": "markdown",
   "id": "1f5c17f8-b833-4c17-b01f-63b9c94a3fc9",
   "metadata": {},
   "source": [
    "#### Get some data ready - just a dataframe with category counts"
   ]
  },
  {
   "cell_type": "code",
   "execution_count": 40,
   "id": "2a44bf92-43c6-4ce3-b33d-47be4a281cc0",
   "metadata": {},
   "outputs": [],
   "source": [
    "menu_data = pd.read_csv('8358_1.csv')"
   ]
  },
  {
   "cell_type": "code",
   "execution_count": 50,
   "id": "c768e953-5e44-4bd6-b0d3-24ef9b3a2f53",
   "metadata": {},
   "outputs": [
    {
     "data": {
      "text/html": [
       "<div>\n",
       "<style scoped>\n",
       "    .dataframe tbody tr th:only-of-type {\n",
       "        vertical-align: middle;\n",
       "    }\n",
       "\n",
       "    .dataframe tbody tr th {\n",
       "        vertical-align: top;\n",
       "    }\n",
       "\n",
       "    .dataframe thead th {\n",
       "        text-align: right;\n",
       "    }\n",
       "</style>\n",
       "<table border=\"1\" class=\"dataframe\">\n",
       "  <thead>\n",
       "    <tr style=\"text-align: right;\">\n",
       "      <th></th>\n",
       "      <th>name</th>\n",
       "      <th>catcount</th>\n",
       "    </tr>\n",
       "  </thead>\n",
       "  <tbody>\n",
       "    <tr>\n",
       "      <th>0</th>\n",
       "      <td>Little Pizza Paradise</td>\n",
       "      <td>1</td>\n",
       "    </tr>\n",
       "    <tr>\n",
       "      <th>2</th>\n",
       "      <td>The Brentwood</td>\n",
       "      <td>3</td>\n",
       "    </tr>\n",
       "    <tr>\n",
       "      <th>7</th>\n",
       "      <td>Bravo Pizza Hollywood</td>\n",
       "      <td>1</td>\n",
       "    </tr>\n",
       "  </tbody>\n",
       "</table>\n",
       "</div>"
      ],
      "text/plain": [
       "                    name  catcount\n",
       "0  Little Pizza Paradise         1\n",
       "2          The Brentwood         3\n",
       "7  Bravo Pizza Hollywood         1"
      ]
     },
     "execution_count": 50,
     "metadata": {},
     "output_type": "execute_result"
    }
   ],
   "source": [
    "menu_data['catcount'] = menu_data['categories'].apply(lambda x: len(x.split(\",\")))\n",
    "data = menu_data.loc[:, ['name', 'catcount']].drop_duplicates().copy()\n",
    "data.head(3)"
   ]
  },
  {
   "cell_type": "markdown",
   "id": "0c28e324-7930-480d-926c-995809ff186e",
   "metadata": {},
   "source": [
    "#### Use the interactive() method to filter the data interactively"
   ]
  },
  {
   "cell_type": "code",
   "execution_count": 51,
   "id": "a4d376be-8a49-4c8c-b4f0-ff8d557fe450",
   "metadata": {},
   "outputs": [
    {
     "data": {},
     "metadata": {},
     "output_type": "display_data"
    },
    {
     "data": {
      "application/vnd.holoviews_exec.v0+json": "",
      "text/html": [
       "<div id='1392'>\n",
       "\n",
       "\n",
       "\n",
       "\n",
       "\n",
       "  <div class=\"bk-root\" id=\"449f64a0-5d4b-4aa7-8af0-81695e970d77\" data-root-id=\"1392\"></div>\n",
       "</div>\n",
       "<script type=\"application/javascript\">(function(root) {\n",
       "  function embed_document(root) {\n",
       "    var docs_json = {\"2d373dcd-9550-40c8-9939-33f635ef1685\":{\"defs\":[{\"extends\":null,\"module\":null,\"name\":\"ReactiveHTML1\",\"overrides\":[],\"properties\":[]},{\"extends\":null,\"module\":null,\"name\":\"FlexBox1\",\"overrides\":[],\"properties\":[{\"default\":\"flex-start\",\"kind\":null,\"name\":\"align_content\"},{\"default\":\"flex-start\",\"kind\":null,\"name\":\"align_items\"},{\"default\":\"row\",\"kind\":null,\"name\":\"flex_direction\"},{\"default\":\"wrap\",\"kind\":null,\"name\":\"flex_wrap\"},{\"default\":\"flex-start\",\"kind\":null,\"name\":\"justify_content\"}]},{\"extends\":null,\"module\":null,\"name\":\"TemplateActions1\",\"overrides\":[],\"properties\":[{\"default\":0,\"kind\":null,\"name\":\"open_modal\"},{\"default\":0,\"kind\":null,\"name\":\"close_modal\"}]},{\"extends\":null,\"module\":null,\"name\":\"MaterialTemplateActions1\",\"overrides\":[],\"properties\":[{\"default\":0,\"kind\":null,\"name\":\"open_modal\"},{\"default\":0,\"kind\":null,\"name\":\"close_modal\"}]}],\"roots\":{\"references\":[{\"attributes\":{\"client_comm_id\":\"5e3c36b693ae41d5b59807cd0b9cb670\",\"comm_id\":\"20eda3ce6b3340b3a2932bd490b72c27\",\"plot_id\":\"1392\"},\"id\":\"1400\",\"type\":\"panel.models.comm_manager.CommManager\"},{\"attributes\":{\"children\":[{\"id\":\"1399\"}],\"margin\":[0,0,0,0],\"name\":\"Row03409\",\"sizing_mode\":\"stretch_width\"},\"id\":\"1398\",\"type\":\"Row\"},{\"attributes\":{\"children\":[{\"id\":\"1396\"}],\"margin\":[0,0,0,0],\"name\":\"Column03404\",\"sizing_mode\":\"stretch_width\"},\"id\":\"1395\",\"type\":\"Column\"},{\"attributes\":{\"margin\":[5,5,5,5],\"name\":\"HSpacer03424\",\"sizing_mode\":\"stretch_width\"},\"id\":\"1397\",\"type\":\"Spacer\"},{\"attributes\":{\"children\":[{\"id\":\"1394\"},{\"id\":\"1398\"}],\"margin\":[0,0,0,0],\"name\":\"Column03426\",\"sizing_mode\":\"stretch_width\"},\"id\":\"1393\",\"type\":\"Column\"},{\"attributes\":{\"end\":9,\"margin\":[5,10,5,10],\"sizing_mode\":\"stretch_width\",\"start\":0,\"step\":0.1,\"title\":\"Max Count\",\"value\":6},\"id\":\"1396\",\"type\":\"Slider\"},{\"attributes\":{\"margin\":[5,5,5,5],\"name\":\"DataFrame03422\",\"sizing_mode\":\"stretch_width\",\"text\":\"&lt;table border=&quot;0&quot; class=&quot;dataframe panel-df&quot;&gt;\\n  &lt;thead&gt;\\n    &lt;tr style=&quot;text-align: right;&quot;&gt;\\n      &lt;th&gt;&lt;/th&gt;\\n      &lt;th&gt;name&lt;/th&gt;\\n      &lt;th&gt;catcount&lt;/th&gt;\\n    &lt;/tr&gt;\\n  &lt;/thead&gt;\\n  &lt;tbody&gt;\\n    &lt;tr&gt;\\n      &lt;th&gt;0&lt;/th&gt;\\n      &lt;td&gt;Little Pizza Paradise&lt;/td&gt;\\n      &lt;td&gt;1&lt;/td&gt;\\n    &lt;/tr&gt;\\n    &lt;tr&gt;\\n      &lt;th&gt;2&lt;/th&gt;\\n      &lt;td&gt;The Brentwood&lt;/td&gt;\\n      &lt;td&gt;3&lt;/td&gt;\\n    &lt;/tr&gt;\\n    &lt;tr&gt;\\n      &lt;th&gt;7&lt;/th&gt;\\n      &lt;td&gt;Bravo Pizza Hollywood&lt;/td&gt;\\n      &lt;td&gt;1&lt;/td&gt;\\n    &lt;/tr&gt;\\n    &lt;tr&gt;\\n      &lt;th&gt;14&lt;/th&gt;\\n      &lt;td&gt;Roadhouse Cafe&lt;/td&gt;\\n      &lt;td&gt;3&lt;/td&gt;\\n    &lt;/tr&gt;\\n    &lt;tr&gt;\\n      &lt;th&gt;16&lt;/th&gt;\\n      &lt;td&gt;Brigham Young University&lt;/td&gt;\\n      &lt;td&gt;2&lt;/td&gt;\\n    &lt;/tr&gt;\\n  &lt;/tbody&gt;\\n&lt;/table&gt;\"},\"id\":\"1399\",\"type\":\"panel.models.markup.HTML\"},{\"attributes\":{\"children\":[{\"id\":\"1395\"},{\"id\":\"1397\"}],\"margin\":[0,0,0,0],\"name\":\"Row03425\",\"sizing_mode\":\"stretch_width\"},\"id\":\"1394\",\"type\":\"Row\"},{\"attributes\":{\"children\":[{\"id\":\"1393\"}],\"margin\":[0,0,0,0],\"name\":\"Row03427\",\"sizing_mode\":\"stretch_width\"},\"id\":\"1392\",\"type\":\"Row\"}],\"root_ids\":[\"1392\",\"1400\"]},\"title\":\"Bokeh Application\",\"version\":\"2.3.2\"}};\n",
       "    var render_items = [{\"docid\":\"2d373dcd-9550-40c8-9939-33f635ef1685\",\"root_ids\":[\"1392\"],\"roots\":{\"1392\":\"449f64a0-5d4b-4aa7-8af0-81695e970d77\"}}];\n",
       "    root.Bokeh.embed.embed_items_notebook(docs_json, render_items);\n",
       "  }\n",
       "  if (root.Bokeh !== undefined && root.Bokeh.Panel !== undefined) {\n",
       "    embed_document(root);\n",
       "  } else {\n",
       "    var attempts = 0;\n",
       "    var timer = setInterval(function(root) {\n",
       "      if (root.Bokeh !== undefined && root.Bokeh.Panel !== undefined) {\n",
       "        clearInterval(timer);\n",
       "        embed_document(root);\n",
       "      } else if (document.readyState == \"complete\") {\n",
       "        attempts++;\n",
       "        if (attempts > 200) {\n",
       "          clearInterval(timer);\n",
       "          console.log(\"Bokeh: ERROR: Unable to run BokehJS code because BokehJS library is missing\");\n",
       "        }\n",
       "      }\n",
       "    }, 25, root)\n",
       "  }\n",
       "})(window);</script>"
      ],
      "text/plain": [
       "<hvplot.interactive.Interactive at 0x7fa398207c90>"
      ]
     },
     "execution_count": 51,
     "metadata": {
      "application/vnd.holoviews_exec.v0+json": {
       "id": "1392"
      }
     },
     "output_type": "execute_result"
    }
   ],
   "source": [
    "datai = data.interactive()\n",
    "datai[datai['catcount'] < slider].head()"
   ]
  },
  {
   "cell_type": "markdown",
   "id": "0fdedf39-cbce-4b8c-8180-5d6da6020eab",
   "metadata": {},
   "source": [
    "#### Other widgets: start and end date"
   ]
  },
  {
   "cell_type": "code",
   "execution_count": 52,
   "id": "7d032d94-6c42-4d3a-9187-fe9100b437e7",
   "metadata": {},
   "outputs": [],
   "source": [
    "import datetime"
   ]
  },
  {
   "cell_type": "code",
   "execution_count": 53,
   "id": "628b334c-de3e-4c19-8a97-bdf02a07ce5d",
   "metadata": {},
   "outputs": [
    {
     "data": {},
     "metadata": {},
     "output_type": "display_data"
    },
    {
     "data": {
      "application/vnd.holoviews_exec.v0+json": "",
      "text/html": [
       "<div id='1827'>\n",
       "\n",
       "\n",
       "\n",
       "\n",
       "\n",
       "  <div class=\"bk-root\" id=\"902b920f-ed81-474a-b251-08d78aa69e27\" data-root-id=\"1827\"></div>\n",
       "</div>\n",
       "<script type=\"application/javascript\">(function(root) {\n",
       "  function embed_document(root) {\n",
       "    var docs_json = {\"8e59620a-880e-460a-9a77-26c238f75bdb\":{\"defs\":[{\"extends\":null,\"module\":null,\"name\":\"ReactiveHTML1\",\"overrides\":[],\"properties\":[]},{\"extends\":null,\"module\":null,\"name\":\"FlexBox1\",\"overrides\":[],\"properties\":[{\"default\":\"flex-start\",\"kind\":null,\"name\":\"align_content\"},{\"default\":\"flex-start\",\"kind\":null,\"name\":\"align_items\"},{\"default\":\"row\",\"kind\":null,\"name\":\"flex_direction\"},{\"default\":\"wrap\",\"kind\":null,\"name\":\"flex_wrap\"},{\"default\":\"flex-start\",\"kind\":null,\"name\":\"justify_content\"}]},{\"extends\":null,\"module\":null,\"name\":\"TemplateActions1\",\"overrides\":[],\"properties\":[{\"default\":0,\"kind\":null,\"name\":\"open_modal\"},{\"default\":0,\"kind\":null,\"name\":\"close_modal\"}]},{\"extends\":null,\"module\":null,\"name\":\"MaterialTemplateActions1\",\"overrides\":[],\"properties\":[{\"default\":0,\"kind\":null,\"name\":\"open_modal\"},{\"default\":0,\"kind\":null,\"name\":\"close_modal\"}]}],\"roots\":{\"references\":[{\"attributes\":{\"end\":1640908800000.0,\"margin\":[5,10,5,10],\"sizing_mode\":\"stretch_width\",\"start\":915148800000.0,\"title\":\"Date\",\"value\":[915148800000.0,1640908800000.0]},\"id\":\"1827\",\"type\":\"DateRangeSlider\"},{\"attributes\":{\"client_comm_id\":\"8c381f95c6504f778fb1a5191ba3b6ed\",\"comm_id\":\"a84ecdfa87ce47459090a00c81fc2571\",\"plot_id\":\"1827\"},\"id\":\"1828\",\"type\":\"panel.models.comm_manager.CommManager\"}],\"root_ids\":[\"1827\",\"1828\"]},\"title\":\"Bokeh Application\",\"version\":\"2.3.2\"}};\n",
       "    var render_items = [{\"docid\":\"8e59620a-880e-460a-9a77-26c238f75bdb\",\"root_ids\":[\"1827\"],\"roots\":{\"1827\":\"902b920f-ed81-474a-b251-08d78aa69e27\"}}];\n",
       "    root.Bokeh.embed.embed_items_notebook(docs_json, render_items);\n",
       "  }\n",
       "  if (root.Bokeh !== undefined && root.Bokeh.Panel !== undefined) {\n",
       "    embed_document(root);\n",
       "  } else {\n",
       "    var attempts = 0;\n",
       "    var timer = setInterval(function(root) {\n",
       "      if (root.Bokeh !== undefined && root.Bokeh.Panel !== undefined) {\n",
       "        clearInterval(timer);\n",
       "        embed_document(root);\n",
       "      } else if (document.readyState == \"complete\") {\n",
       "        attempts++;\n",
       "        if (attempts > 200) {\n",
       "          clearInterval(timer);\n",
       "          console.log(\"Bokeh: ERROR: Unable to run BokehJS code because BokehJS library is missing\");\n",
       "        }\n",
       "      }\n",
       "    }, 25, root)\n",
       "  }\n",
       "})(window);</script>"
      ],
      "text/plain": [
       "DateRangeSlider(end=Timestamp('2021-12-31 0..., name='Date', sizing_mode='stretch_width', start=Timestamp('1999-01-01 0..., value=(Timestamp('1999-01-01 00:..., value_end=Timestamp('2021-12-31 0..., value_start=Timestamp('1999-01-01 0...)"
      ]
     },
     "execution_count": 53,
     "metadata": {
      "application/vnd.holoviews_exec.v0+json": {
       "id": "1827"
      }
     },
     "output_type": "execute_result"
    }
   ],
   "source": [
    "date = pn.widgets.DateRangeSlider(name='Date', start=pd.to_datetime('1999-01-01'), end=pd.to_datetime('2021-12-31'))\n",
    "date"
   ]
  },
  {
   "cell_type": "code",
   "execution_count": 54,
   "id": "e3247f3f-3986-45eb-9a7e-30c8eaf735ef",
   "metadata": {},
   "outputs": [
    {
     "data": {
      "text/plain": [
       "(Timestamp('1999-01-01 00:00:00'), Timestamp('2021-12-31 00:00:00'))"
      ]
     },
     "execution_count": 54,
     "metadata": {},
     "output_type": "execute_result"
    }
   ],
   "source": [
    "date.value"
   ]
  },
  {
   "cell_type": "markdown",
   "id": "99c49e67-fbf3-44b4-957e-3e4279967096",
   "metadata": {},
   "source": [
    "#### Other widgets: dropdown menu"
   ]
  },
  {
   "cell_type": "code",
   "execution_count": 55,
   "id": "434e3b6a-4ecc-40f6-be0c-3c1ae378a15e",
   "metadata": {},
   "outputs": [
    {
     "data": {},
     "metadata": {},
     "output_type": "display_data"
    },
    {
     "data": {
      "application/vnd.holoviews_exec.v0+json": "",
      "text/html": [
       "<div id='1829'>\n",
       "\n",
       "\n",
       "\n",
       "\n",
       "\n",
       "  <div class=\"bk-root\" id=\"4de34743-a84d-40ff-9ba5-5561c4cd1b71\" data-root-id=\"1829\"></div>\n",
       "</div>\n",
       "<script type=\"application/javascript\">(function(root) {\n",
       "  function embed_document(root) {\n",
       "    var docs_json = {\"67684e7d-5708-4037-b01d-cce5e5605aef\":{\"defs\":[{\"extends\":null,\"module\":null,\"name\":\"ReactiveHTML1\",\"overrides\":[],\"properties\":[]},{\"extends\":null,\"module\":null,\"name\":\"FlexBox1\",\"overrides\":[],\"properties\":[{\"default\":\"flex-start\",\"kind\":null,\"name\":\"align_content\"},{\"default\":\"flex-start\",\"kind\":null,\"name\":\"align_items\"},{\"default\":\"row\",\"kind\":null,\"name\":\"flex_direction\"},{\"default\":\"wrap\",\"kind\":null,\"name\":\"flex_wrap\"},{\"default\":\"flex-start\",\"kind\":null,\"name\":\"justify_content\"}]},{\"extends\":null,\"module\":null,\"name\":\"TemplateActions1\",\"overrides\":[],\"properties\":[{\"default\":0,\"kind\":null,\"name\":\"open_modal\"},{\"default\":0,\"kind\":null,\"name\":\"close_modal\"}]},{\"extends\":null,\"module\":null,\"name\":\"MaterialTemplateActions1\",\"overrides\":[],\"properties\":[{\"default\":0,\"kind\":null,\"name\":\"open_modal\"},{\"default\":0,\"kind\":null,\"name\":\"close_modal\"}]}],\"roots\":{\"references\":[{\"attributes\":{\"client_comm_id\":\"a4dd778fe43c44b5a19b39754e786f7b\",\"comm_id\":\"940f3cd5187a42afa700dc5700eb12b8\",\"plot_id\":\"1829\"},\"id\":\"1830\",\"type\":\"panel.models.comm_manager.CommManager\"},{\"attributes\":{\"margin\":[5,10,5,10],\"options\":[\"A\",\"B\",\"C\"],\"sizing_mode\":\"stretch_width\",\"value\":\"A\"},\"id\":\"1829\",\"type\":\"Select\"}],\"root_ids\":[\"1829\",\"1830\"]},\"title\":\"Bokeh Application\",\"version\":\"2.3.2\"}};\n",
       "    var render_items = [{\"docid\":\"67684e7d-5708-4037-b01d-cce5e5605aef\",\"root_ids\":[\"1829\"],\"roots\":{\"1829\":\"4de34743-a84d-40ff-9ba5-5561c4cd1b71\"}}];\n",
       "    root.Bokeh.embed.embed_items_notebook(docs_json, render_items);\n",
       "  }\n",
       "  if (root.Bokeh !== undefined && root.Bokeh.Panel !== undefined) {\n",
       "    embed_document(root);\n",
       "  } else {\n",
       "    var attempts = 0;\n",
       "    var timer = setInterval(function(root) {\n",
       "      if (root.Bokeh !== undefined && root.Bokeh.Panel !== undefined) {\n",
       "        clearInterval(timer);\n",
       "        embed_document(root);\n",
       "      } else if (document.readyState == \"complete\") {\n",
       "        attempts++;\n",
       "        if (attempts > 200) {\n",
       "          clearInterval(timer);\n",
       "          console.log(\"Bokeh: ERROR: Unable to run BokehJS code because BokehJS library is missing\");\n",
       "        }\n",
       "      }\n",
       "    }, 25, root)\n",
       "  }\n",
       "})(window);</script>"
      ],
      "text/plain": [
       "Select(options=['A', 'B', 'C'], sizing_mode='stretch_width', value='A')"
      ]
     },
     "execution_count": 55,
     "metadata": {
      "application/vnd.holoviews_exec.v0+json": {
       "id": "1829"
      }
     },
     "output_type": "execute_result"
    }
   ],
   "source": [
    "pn.widgets.Select(options=['A', 'B', 'C'])"
   ]
  },
  {
   "cell_type": "markdown",
   "id": "07814a9c-c890-455c-9f96-64497a87f757",
   "metadata": {},
   "source": [
    "#### Other widgets: text input"
   ]
  },
  {
   "cell_type": "code",
   "execution_count": 56,
   "id": "464c6ef1-105b-4280-b7e2-f7eaae3d9d0b",
   "metadata": {},
   "outputs": [
    {
     "data": {},
     "metadata": {},
     "output_type": "display_data"
    },
    {
     "data": {
      "application/vnd.holoviews_exec.v0+json": "",
      "text/html": [
       "<div id='1831'>\n",
       "\n",
       "\n",
       "\n",
       "\n",
       "\n",
       "  <div class=\"bk-root\" id=\"e42aa9a0-5bfa-4644-a37a-b1f5d6faefe9\" data-root-id=\"1831\"></div>\n",
       "</div>\n",
       "<script type=\"application/javascript\">(function(root) {\n",
       "  function embed_document(root) {\n",
       "    var docs_json = {\"2ed08fc0-61b1-442a-9cba-9ddc61ad710a\":{\"defs\":[{\"extends\":null,\"module\":null,\"name\":\"ReactiveHTML1\",\"overrides\":[],\"properties\":[]},{\"extends\":null,\"module\":null,\"name\":\"FlexBox1\",\"overrides\":[],\"properties\":[{\"default\":\"flex-start\",\"kind\":null,\"name\":\"align_content\"},{\"default\":\"flex-start\",\"kind\":null,\"name\":\"align_items\"},{\"default\":\"row\",\"kind\":null,\"name\":\"flex_direction\"},{\"default\":\"wrap\",\"kind\":null,\"name\":\"flex_wrap\"},{\"default\":\"flex-start\",\"kind\":null,\"name\":\"justify_content\"}]},{\"extends\":null,\"module\":null,\"name\":\"TemplateActions1\",\"overrides\":[],\"properties\":[{\"default\":0,\"kind\":null,\"name\":\"open_modal\"},{\"default\":0,\"kind\":null,\"name\":\"close_modal\"}]},{\"extends\":null,\"module\":null,\"name\":\"MaterialTemplateActions1\",\"overrides\":[],\"properties\":[{\"default\":0,\"kind\":null,\"name\":\"open_modal\"},{\"default\":0,\"kind\":null,\"name\":\"close_modal\"}]}],\"roots\":{\"references\":[{\"attributes\":{\"margin\":[5,10,5,10],\"max_length\":5000,\"sizing_mode\":\"stretch_width\",\"title\":\"Text:\"},\"id\":\"1831\",\"type\":\"TextInput\"},{\"attributes\":{\"client_comm_id\":\"eef845ebc2e34fb0af621558e2dc06b5\",\"comm_id\":\"50e2155e1625441180a33efb886ef30f\",\"plot_id\":\"1831\"},\"id\":\"1832\",\"type\":\"panel.models.comm_manager.CommManager\"}],\"root_ids\":[\"1831\",\"1832\"]},\"title\":\"Bokeh Application\",\"version\":\"2.3.2\"}};\n",
       "    var render_items = [{\"docid\":\"2ed08fc0-61b1-442a-9cba-9ddc61ad710a\",\"root_ids\":[\"1831\"],\"roots\":{\"1831\":\"e42aa9a0-5bfa-4644-a37a-b1f5d6faefe9\"}}];\n",
       "    root.Bokeh.embed.embed_items_notebook(docs_json, render_items);\n",
       "  }\n",
       "  if (root.Bokeh !== undefined && root.Bokeh.Panel !== undefined) {\n",
       "    embed_document(root);\n",
       "  } else {\n",
       "    var attempts = 0;\n",
       "    var timer = setInterval(function(root) {\n",
       "      if (root.Bokeh !== undefined && root.Bokeh.Panel !== undefined) {\n",
       "        clearInterval(timer);\n",
       "        embed_document(root);\n",
       "      } else if (document.readyState == \"complete\") {\n",
       "        attempts++;\n",
       "        if (attempts > 200) {\n",
       "          clearInterval(timer);\n",
       "          console.log(\"Bokeh: ERROR: Unable to run BokehJS code because BokehJS library is missing\");\n",
       "        }\n",
       "      }\n",
       "    }, 25, root)\n",
       "  }\n",
       "})(window);</script>"
      ],
      "text/plain": [
       "TextInput(name='Text:', sizing_mode='stretch_width')"
      ]
     },
     "execution_count": 56,
     "metadata": {
      "application/vnd.holoviews_exec.v0+json": {
       "id": "1831"
      }
     },
     "output_type": "execute_result"
    }
   ],
   "source": [
    "pn.widgets.TextInput(name='Text:')"
   ]
  },
  {
   "cell_type": "code",
   "execution_count": 57,
   "id": "07d3d5a5-4b28-4f2a-86d1-37d104cad8ac",
   "metadata": {},
   "outputs": [
    {
     "data": {},
     "metadata": {},
     "output_type": "display_data"
    },
    {
     "data": {
      "application/vnd.holoviews_exec.v0+json": "",
      "text/html": [
       "<div id='1833'>\n",
       "\n",
       "\n",
       "\n",
       "\n",
       "\n",
       "  <div class=\"bk-root\" id=\"49c37089-09a4-4118-8356-f636bb94681a\" data-root-id=\"1833\"></div>\n",
       "</div>\n",
       "<script type=\"application/javascript\">(function(root) {\n",
       "  function embed_document(root) {\n",
       "    var docs_json = {\"92e7aba3-f9f8-4c46-b50c-d464c74ac7ed\":{\"defs\":[{\"extends\":null,\"module\":null,\"name\":\"ReactiveHTML1\",\"overrides\":[],\"properties\":[]},{\"extends\":null,\"module\":null,\"name\":\"FlexBox1\",\"overrides\":[],\"properties\":[{\"default\":\"flex-start\",\"kind\":null,\"name\":\"align_content\"},{\"default\":\"flex-start\",\"kind\":null,\"name\":\"align_items\"},{\"default\":\"row\",\"kind\":null,\"name\":\"flex_direction\"},{\"default\":\"wrap\",\"kind\":null,\"name\":\"flex_wrap\"},{\"default\":\"flex-start\",\"kind\":null,\"name\":\"justify_content\"}]},{\"extends\":null,\"module\":null,\"name\":\"TemplateActions1\",\"overrides\":[],\"properties\":[{\"default\":0,\"kind\":null,\"name\":\"open_modal\"},{\"default\":0,\"kind\":null,\"name\":\"close_modal\"}]},{\"extends\":null,\"module\":null,\"name\":\"MaterialTemplateActions1\",\"overrides\":[],\"properties\":[{\"default\":0,\"kind\":null,\"name\":\"open_modal\"},{\"default\":0,\"kind\":null,\"name\":\"close_modal\"}]}],\"roots\":{\"references\":[{\"attributes\":{\"client_comm_id\":\"c9536beb05fe4531822115e427153e09\",\"comm_id\":\"8fe78490a4a74fb886d0bb9dc39a1e64\",\"plot_id\":\"1833\"},\"id\":\"1834\",\"type\":\"panel.models.comm_manager.CommManager\"},{\"attributes\":{\"end\":10,\"margin\":[5,10,5,10],\"sizing_mode\":\"stretch_width\",\"start\":0,\"value\":0},\"id\":\"1833\",\"type\":\"Slider\"}],\"root_ids\":[\"1833\",\"1834\"]},\"title\":\"Bokeh Application\",\"version\":\"2.3.2\"}};\n",
       "    var render_items = [{\"docid\":\"92e7aba3-f9f8-4c46-b50c-d464c74ac7ed\",\"root_ids\":[\"1833\"],\"roots\":{\"1833\":\"49c37089-09a4-4118-8356-f636bb94681a\"}}];\n",
       "    root.Bokeh.embed.embed_items_notebook(docs_json, render_items);\n",
       "  }\n",
       "  if (root.Bokeh !== undefined && root.Bokeh.Panel !== undefined) {\n",
       "    embed_document(root);\n",
       "  } else {\n",
       "    var attempts = 0;\n",
       "    var timer = setInterval(function(root) {\n",
       "      if (root.Bokeh !== undefined && root.Bokeh.Panel !== undefined) {\n",
       "        clearInterval(timer);\n",
       "        embed_document(root);\n",
       "      } else if (document.readyState == \"complete\") {\n",
       "        attempts++;\n",
       "        if (attempts > 200) {\n",
       "          clearInterval(timer);\n",
       "          console.log(\"Bokeh: ERROR: Unable to run BokehJS code because BokehJS library is missing\");\n",
       "        }\n",
       "      }\n",
       "    }, 25, root)\n",
       "  }\n",
       "})(window);</script>"
      ],
      "text/plain": [
       "IntSlider(end=10, sizing_mode='stretch_width')"
      ]
     },
     "execution_count": 57,
     "metadata": {
      "application/vnd.holoviews_exec.v0+json": {
       "id": "1833"
      }
     },
     "output_type": "execute_result"
    }
   ],
   "source": [
    "pn.widgets.IntSlider(value=0, start=0, end=10)"
   ]
  },
  {
   "cell_type": "code",
   "execution_count": 58,
   "id": "fd5df671-1f3a-4275-a6fb-37de99f6193c",
   "metadata": {},
   "outputs": [
    {
     "data": {},
     "metadata": {},
     "output_type": "display_data"
    },
    {
     "data": {
      "application/vnd.holoviews_exec.v0+json": "",
      "text/html": [
       "<div id='1835'>\n",
       "\n",
       "\n",
       "\n",
       "\n",
       "\n",
       "  <div class=\"bk-root\" id=\"65071c17-259b-4366-ad1c-85237b8f019e\" data-root-id=\"1835\"></div>\n",
       "</div>\n",
       "<script type=\"application/javascript\">(function(root) {\n",
       "  function embed_document(root) {\n",
       "    var docs_json = {\"c7aa6130-345b-4a87-a61c-523ae05b51eb\":{\"defs\":[{\"extends\":null,\"module\":null,\"name\":\"ReactiveHTML1\",\"overrides\":[],\"properties\":[]},{\"extends\":null,\"module\":null,\"name\":\"FlexBox1\",\"overrides\":[],\"properties\":[{\"default\":\"flex-start\",\"kind\":null,\"name\":\"align_content\"},{\"default\":\"flex-start\",\"kind\":null,\"name\":\"align_items\"},{\"default\":\"row\",\"kind\":null,\"name\":\"flex_direction\"},{\"default\":\"wrap\",\"kind\":null,\"name\":\"flex_wrap\"},{\"default\":\"flex-start\",\"kind\":null,\"name\":\"justify_content\"}]},{\"extends\":null,\"module\":null,\"name\":\"TemplateActions1\",\"overrides\":[],\"properties\":[{\"default\":0,\"kind\":null,\"name\":\"open_modal\"},{\"default\":0,\"kind\":null,\"name\":\"close_modal\"}]},{\"extends\":null,\"module\":null,\"name\":\"MaterialTemplateActions1\",\"overrides\":[],\"properties\":[{\"default\":0,\"kind\":null,\"name\":\"open_modal\"},{\"default\":0,\"kind\":null,\"name\":\"close_modal\"}]}],\"roots\":{\"references\":[{\"attributes\":{\"client_comm_id\":\"a57d3511fe9042e6ba45e5464c63c8e4\",\"comm_id\":\"2f0f72f070be45f5a56b17c8cac15676\",\"plot_id\":\"1835\"},\"id\":\"1836\",\"type\":\"panel.models.comm_manager.CommManager\"},{\"attributes\":{\"margin\":[5,10,5,10],\"options\":[[\"['#00004e', '#000150', '#000152', '#000154', '#000255', '#000257', '#000259', '#00025b', '#00025d', '#00025f', '#010261', '#010263', '#020265', '#030267', '#030269', '#04026c', '#05026e', '#060270', '#060272', '#070274', '#080276', '#090178', '#09017a', '#0a017c', '#0b017e', '#0b0181', '#0c0183', '#0d0185', '#0d0187', '#0e0189', '#0e018b', '#0f018e', '#0f0190', '#0f0192', '#100194', '#100197', '#100199', '#10019b', '#10019d', '#1001a0', '#0f01a2', '#0f02a4', '#0e02a7', '#0e02a9', '#0d02ab', '#0c03ae', '#0b03b0', '#0a04b2', '#0a04b5', '#0904b7', '#0905b9', '#0806bb', '#0806bd', '#0707bf', '#0707c2', '#0708c4', '#0709c6', '#070ac8', '#070bca', '#080ccc', '#080dce', '#090dd0', '#0a0ed1', '#0b0fd3', '#0c10d5', '#0d11d7', '#0e12d9', '#0f13db', '#1014dc', '#1215de', '#1316e0', '#1417e1', '#1618e3', '#1719e5', '#181ae6', '#1a1be7', '#1b1ce9', '#1c1eea', '#1d1feb', '#1e20ed', '#1f22ee', '#2023ef', '#2124f0', '#2226f1', '#2327f2', '#2429f3', '#252af4', '#252cf5', '#262ef5', '#272ff6', '#2831f7', '#2832f7', '#2934f8', '#2a36f8', '#2a37f9', '#2b39f9', '#2b3bf9', '#2c3dfa', '#2c3efa', '#2d40fa', '#2d42fa', '#2d43fa', '#2d45fa', '#2e47fa', '#2e48fb', '#2e4afb', '#2e4cfb', '#2f4dfb', '#2f4ffb', '#2f50fb', '#2f52fb', '#2f53fb', '#2f55fb', '#2f57fb', '#2f58fb', '#2f5afc', '#2f5bfc', '#2f5dfc', '#2f5efc', '#2f5ffc', '#2f61fc', '#2f62fc', '#2e64fc', '#2e65fc', '#2e67fc', '#2e68fc', '#2d6afc', '#2d6bfd', '#2d6cfd', '#2c6efd', '#2c6ffd', '#2c71fd', '#2c72fd', '#2b73fd', '#2b75fd', '#2b76fd', '#2b77fd', '#2b79fd', '#2b7afd', '#2b7bfd', '#2b7dfd', '#2b7efd', '#2b7ffd', '#2b81fd', '#2c82fd', '#2c83fd', '#2c84fd', '#2c86fd', '#2d87fd', '#2d88fd', '#2e8afd', '#2e8bfd', '#2f8cfd', '#2f8dfd', '#308ffd', '#3090fd', '#3191fd', '#3292fd', '#3293fd', '#3395fd', '#3396fd', '#3497fd', '#3498fd', '#349afd', '#359bfc', '#359cfc', '#359dfc', '#359ffc', '#35a0fc', '#35a1fc', '#35a3fc', '#35a4fc', '#35a5fc', '#35a6fc', '#35a8fc', '#35a9fc', '#34aafc', '#34abfc', '#34adfc', '#33aefc', '#33affc', '#32b0fc', '#32b2fc', '#31b3fc', '#30b4fc', '#2fb6fc', '#2fb7fc', '#2eb8fc', '#2db9fc', '#2dbbfc', '#2cbcfc', '#2bbdfc', '#2bbffb', '#2ac0fb', '#2ac1fb', '#29c2fb', '#29c4fb', '#29c5fb', '#29c6fb', '#28c7fb', '#28c8fb', '#28cafb', '#28cbfb', '#28ccfb', '#28cdfb', '#29cffb', '#29d0fb', '#29d1fa', '#2ad2fa', '#2ad3fa', '#2bd5fa', '#2bd6fa', '#2cd7fa', '#2dd8fa', '#2ed9fa', '#30dbfa', '#32dcf9', '#35ddf9', '#38def9', '#3bdff9', '#3ee0f9', '#42e1f9', '#45e2f9', '#49e3f9', '#4ce4f9', '#50e5f9', '#53e6f8', '#57e7f8', '#5ae8f8', '#5ee9f8', '#61eaf8', '#65ebf8', '#68ecf8', '#6cecf8', '#6fedf8', '#73eef7', '#76eff7', '#79f0f7', '#7df1f7', '#80f2f7', '#83f2f7', '#87f3f7', '#8af4f7', '#8df5f6', '#90f6f6', '#93f7f6', '#97f7f6', '#9af8f6', '#9df9f6', '#a0faf6', '#a3faf6', '#a6fbf6', '#a9fcf5', '#adfdf5', '#b0fef5', '#b3fef5']\",\"kbc\"],[\"['#000000', '#060000', '#0d0000', '#120000', '#160000', '#190000', '#1c0000', '#1f0000', '#220000', '#240000', '#260000', '#280000', '#2b0000', '#2d0000', '#2e0000', '#300000', '#320000', '#340000', '#350000', '#370000', '#380000', '#3a0000', '#3b0000', '#3d0000', '#3e0000', '#400000', '#410000', '#430000', '#440000', '#460000', '#470000', '#490000', '#4a0000', '#4c0000', '#4d0000', '#4f0000', '#500000', '#520000', '#530000', '#550000', '#560000', '#580000', '#590100', '#5b0100', '#5d0100', '#5e0100', '#600100', '#610100', '#630100', '#650100', '#660100', '#680100', '#690100', '#6b0100', '#6d0100', '#6e0100', '#700100', '#710100', '#730100', '#750100', '#760100', '#780200', '#7a0200', '#7b0200', '#7d0200', '#7f0200', '#800200', '#820200', '#840200', '#850200', '#870200', '#890200', '#8a0200', '#8c0300', '#8e0300', '#900300', '#910300', '#930300', '#950300', '#960300', '#980300', '#9a0300', '#9c0300', '#9d0400', '#9f0400', '#a10400', '#a20400', '#a40400', '#a60400', '#a80400', '#a90400', '#ab0500', '#ad0500', '#af0500', '#b00500', '#b20500', '#b40500', '#b60600', '#b80600', '#b90600', '#bb0600', '#bd0600', '#bf0700', '#c00700', '#c20700', '#c40700', '#c60800', '#c80800', '#c90800', '#cb0800', '#cd0900', '#cf0900', '#d10900', '#d20a00', '#d40a00', '#d60a00', '#d80b00', '#da0b00', '#db0c00', '#dd0c00', '#df0d00', '#e10d00', '#e30e00', '#e40f00', '#e60f00', '#e81000', '#ea1100', '#eb1300', '#ed1400', '#ee1600', '#f01800', '#f11b00', '#f21d00', '#f32000', '#f52300', '#f62600', '#f62900', '#f72c00', '#f82f00', '#f93200', '#f93500', '#fa3800', '#fa3b00', '#fb3d00', '#fb4000', '#fb4300', '#fc4600', '#fc4900', '#fc4b00', '#fd4e00', '#fd5100', '#fd5300', '#fd5600', '#fd5800', '#fe5b00', '#fe5d00', '#fe5f00', '#fe6200', '#fe6400', '#fe6600', '#fe6800', '#fe6b00', '#fe6d00', '#fe6f00', '#fe7100', '#fe7300', '#fe7500', '#fe7700', '#fe7900', '#fe7c00', '#ff7e00', '#ff8000', '#ff8200', '#ff8300', '#ff8500', '#ff8700', '#ff8900', '#ff8b00', '#ff8d00', '#ff8f00', '#ff9100', '#ff9300', '#ff9400', '#ff9600', '#ff9800', '#ff9a00', '#ff9c00', '#ff9d00', '#ff9f00', '#ffa100', '#ffa300', '#ffa401', '#ffa601', '#ffa801', '#ffaa01', '#ffab01', '#ffad01', '#ffaf01', '#ffb001', '#ffb202', '#ffb402', '#ffb502', '#ffb702', '#ffb902', '#ffba02', '#ffbc03', '#ffbd03', '#ffbf03', '#ffc103', '#ffc204', '#ffc404', '#ffc604', '#ffc704', '#ffc905', '#ffca05', '#ffcc05', '#ffce06', '#ffcf06', '#ffd106', '#ffd207', '#ffd407', '#ffd508', '#ffd708', '#ffd909', '#ffda09', '#ffdc0a', '#ffdd0a', '#ffdf0b', '#ffe00b', '#ffe20c', '#ffe30d', '#ffe50e', '#ffe60f', '#ffe810', '#ffea11', '#ffeb12', '#ffed14', '#ffee17', '#fff01a', '#fff11e', '#fff324', '#fff42a', '#fff532', '#fff73b', '#fff847', '#fff953', '#fffb62', '#fffb72', '#fffc83', '#fffd95', '#fffea8', '#fffeba', '#fffecc', '#fffede', '#fffeee', '#ffffff']\",\"fire\"],[\"['#000c7c', '#000c7e', '#000d80', '#000d82', '#000e83', '#000e85', '#000f87', '#000f89', '#00108b', '#00108c', '#00118e', '#001290', '#001292', '#001393', '#001395', '#001497', '#001598', '#00159a', '#00169c', '#00179d', '#00179f', '#0018a0', '#0019a2', '#001aa3', '#001aa5', '#001ba6', '#001ca8', '#001da9', '#001eab', '#001eac', '#001fad', '#0020af', '#0021b0', '#0022b1', '#0023b2', '#0024b3', '#0025b4', '#0026b5', '#0027b6', '#0028b7', '#0029b8', '#002ab8', '#002bb9', '#002cba', '#002eba', '#002fba', '#0030bb', '#0031bb', '#0033bb', '#0034bb', '#0035bb', '#0036bb', '#0037bb', '#0039bb', '#003abb', '#003bbb', '#003cbb', '#003dbb', '#003fba', '#0040ba', '#0041ba', '#0042b9', '#0043b9', '#0045b8', '#0046b8', '#0047b7', '#0048b6', '#0049b6', '#004ab5', '#004cb4', '#004db3', '#004eb2', '#004fb2', '#0050b1', '#0052b0', '#0053ae', '#0054ad', '#0055ac', '#0056ab', '#0057aa', '#0059a9', '#005aa8', '#005ba7', '#005ca5', '#005da4', '#005fa3', '#0060a2', '#0061a1', '#0062a0', '#00639e', '#00649d', '#00659c', '#00679b', '#00689a', '#006998', '#006a97', '#006b96', '#006c95', '#006d93', '#006f92', '#007091', '#00718f', '#00728e', '#00738d', '#00748b', '#00758a', '#007689', '#007887', '#007986', '#007a84', '#007b83', '#007c81', '#007d80', '#007e7e', '#007f7d', '#00807b', '#008279', '#008377', '#008476', '#028574', '#068672', '#098770', '#0d886e', '#10896c', '#128a6a', '#158b68', '#178c66', '#198d63', '#1b8e61', '#1d905f', '#1f915c', '#20925a', '#229358', '#239455', '#259552', '#269650', '#28974d', '#29984a', '#2a9948', '#2b9a45', '#2c9b43', '#2c9c40', '#2d9d3e', '#2d9e3b', '#2e9f39', '#2ea037', '#2fa135', '#2fa232', '#2fa330', '#30a52e', '#30a62c', '#30a72a', '#30a828', '#30a926', '#31aa25', '#31ab23', '#31ac21', '#31ad20', '#31ae1f', '#31af1d', '#31b01c', '#31b11b', '#31b21a', '#32b31a', '#32b41a', '#32b519', '#32b619', '#32b719', '#32b819', '#32b919', '#32ba19', '#32bb19', '#33bc19', '#33bd19', '#33be19', '#33bf19', '#33c019', '#33c119', '#33c219', '#33c319', '#34c519', '#34c619', '#34c719', '#34c819', '#34c919', '#34ca19', '#35cb19', '#35cc19', '#35cd19', '#35ce19', '#35cf19', '#35d019', '#36d119', '#36d219', '#36d319', '#36d419', '#37d519', '#38d619', '#3bd719', '#3dd819', '#40d919', '#44da19', '#47da19', '#4bdb19', '#4fdc1a', '#53dd1a', '#57de1a', '#5ade1a', '#5edf1a', '#62e01a', '#66e01a', '#6ae11a', '#6ee21a', '#72e21a', '#76e31a', '#7ae31b', '#7ee41b', '#82e51b', '#86e51b', '#8ae61b', '#8ee61b', '#91e71b', '#95e71b', '#99e81c', '#9de81c', '#a1e91c', '#a4e91c', '#a8ea1c', '#acea1c', '#b0ea1c', '#b3eb1d', '#b7eb1d', '#bbec1d', '#beec1d', '#c2ec1d', '#c6ed1e', '#c9ed1e', '#cded1e', '#d1ee1e', '#d4ee1e', '#d8ee1f', '#dcee1f', '#dfef1f', '#e3ef1f', '#e7ef20', '#eaef20', '#eef020', '#f2f020', '#f5f021', '#f9f021', '#fcf021', '#fff021', '#fff022', '#fff122', '#fff122', '#fff123']\",\"bgy\"],[\"['#1a0085', '#1a0087', '#1a0089', '#1a008b', '#1a008d', '#1a018e', '#1a0290', '#1a0292', '#1a0394', '#1a0495', '#1a0597', '#1a0699', '#1a079b', '#1a089c', '#1a099e', '#1a0aa0', '#1a0ba1', '#1a0ca3', '#1a0da5', '#1a0ea6', '#1a0fa8', '#1a10aa', '#1a11ab', '#1a12ad', '#1a13ae', '#1a14b0', '#1a15b2', '#1a16b3', '#1a17b5', '#1a18b6', '#1a19b8', '#1a1ab9', '#1a1bba', '#1a1cbc', '#1a1dbd', '#1a1ebf', '#1a1fc0', '#1a21c1', '#1a22c3', '#1b23c4', '#1b24c5', '#1b25c7', '#1b26c8', '#1b27c9', '#1b28ca', '#1b29cb', '#1b2bcc', '#1b2ccd', '#1c2dce', '#1c2ecf', '#1c2fd0', '#1c31d1', '#1c32d2', '#1d33d3', '#1d34d3', '#1d36d4', '#1d37d5', '#1d38d5', '#1e3ad6', '#1e3bd6', '#1e3cd6', '#1e3ed7', '#1f3fd7', '#1f41d7', '#1f42d7', '#1f44d7', '#2045d6', '#2047d6', '#2048d5', '#204ad4', '#204cd3', '#204ed2', '#204fd1', '#2051cf', '#2053cc', '#2056ca', '#1f58c7', '#1f5ac4', '#1f5cc1', '#1f5ebe', '#2060bb', '#2061b8', '#2163b5', '#2165b2', '#2266af', '#2368ac', '#246aa9', '#256ba6', '#266da4', '#276ea1', '#28709e', '#29719b', '#2a7299', '#2b7496', '#2c7593', '#2d7691', '#2e788e', '#2f798b', '#307a88', '#317b86', '#327d83', '#337e81', '#347f7e', '#34807b', '#358279', '#368376', '#378473', '#388571', '#39866e', '#39876b', '#3a8969', '#3b8a66', '#3c8b63', '#3c8c61', '#3d8d5e', '#3e8e5b', '#3f8f59', '#3f9057', '#409154', '#419252', '#429350', '#43944e', '#44964c', '#45974a', '#469848', '#479846', '#489944', '#499a42', '#4a9b40', '#4c9c3e', '#4d9d3d', '#4e9e3b', '#4f9f39', '#51a038', '#52a136', '#54a235', '#55a333', '#57a432', '#58a530', '#5aa52f', '#5ba62d', '#5da72c', '#5ea82b', '#60a929', '#62aa28', '#63ab27', '#65ab26', '#67ac24', '#69ad23', '#6bae22', '#6caf21', '#6eaf20', '#70b01f', '#72b11e', '#74b21d', '#76b21c', '#78b31b', '#7ab41a', '#7cb519', '#7eb519', '#80b618', '#82b718', '#84b817', '#86b817', '#88b916', '#8aba16', '#8cba16', '#8ebb16', '#90bc15', '#93bd16', '#95bd16', '#97be16', '#99bf16', '#9bbf16', '#9dc017', '#a0c017', '#a2c118', '#a4c218', '#a6c219', '#a8c319', '#aac41a', '#acc41b', '#aec51b', '#b0c61c', '#b2c61d', '#b4c71e', '#b6c81e', '#b8c81f', '#bac920', '#bcca21', '#beca22', '#c0cb23', '#c2cc24', '#c4cc25', '#c6cd26', '#c7ce27', '#c9ce28', '#cbcf29', '#cdd02b', '#ced12c', '#d0d12d', '#d2d22e', '#d4d330', '#d5d331', '#d7d433', '#d8d534', '#dad636', '#dcd637', '#ddd739', '#dfd83b', '#e0d93c', '#e1da3e', '#e3da40', '#e4db42', '#e5dc44', '#e7dd46', '#e8de48', '#e9df4a', '#eadf4c', '#ebe04f', '#ece151', '#ece254', '#ede356', '#eee459', '#eee55c', '#efe65f', '#efe763', '#efe966', '#f0ea6a', '#f0eb6d', '#f0ec71', '#f1ed75', '#f1ee79', '#f2ef7e', '#f2ef82', '#f3f087', '#f3f18b', '#f4f290', '#f5f395', '#f5f49a', '#f6f59f', '#f7f5a5', '#f7f6aa', '#f8f7b0', '#f9f8b6', '#f9f8bc', '#faf9c2', '#fbfac8', '#fbface', '#fcfbd5', '#fcfcdb', '#fdfce2', '#fdfde9', '#fefdf0', '#fefef7', '#feffff']\",\"bgyw\"],[\"['#000c7c', '#000c7e', '#000d80', '#000d82', '#000e83', '#000e85', '#000e87', '#000f89', '#000f8a', '#00108c', '#00108e', '#00108f', '#001191', '#001192', '#001194', '#001295', '#001297', '#001298', '#00139a', '#00139b', '#00139c', '#00149d', '#00149f', '#0014a0', '#0014a1', '#0015a2', '#0015a3', '#0015a4', '#0015a5', '#0015a5', '#0015a6', '#0015a7', '#0015a8', '#0015a8', '#0015a8', '#0015a9', '#0a15a9', '#1415a9', '#1c15a9', '#2315a9', '#2915a9', '#2e14a9', '#3414a8', '#3913a8', '#3e13a7', '#4212a6', '#4712a5', '#4b11a4', '#4f11a3', '#5310a2', '#5610a1', '#5a0fa0', '#5d0e9f', '#600e9e', '#630d9d', '#660d9c', '#690c9b', '#6c0b9b', '#6f0b9a', '#710a99', '#740a98', '#760997', '#790897', '#7b0896', '#7d0795', '#800795', '#820694', '#840693', '#860593', '#880592', '#8b0592', '#8d0491', '#8f0491', '#910490', '#930390', '#95038f', '#97038f', '#99028e', '#9b028e', '#9d028d', '#9f018d', '#a1018d', '#a2018c', '#a4008c', '#a6008b', '#a8008b', '#aa008a', '#ac008a', '#ae0089', '#b00089', '#b20088', '#b30088', '#b50087', '#b70087', '#b90087', '#bb0086', '#bd0086', '#bf0085', '#c00085', '#c20084', '#c40084', '#c60083', '#c80083', '#c90082', '#cb0082', '#cd0081', '#cf0081', '#d10080', '#d20080', '#d4007f', '#d6007f', '#d8007e', '#d9007e', '#db007d', '#dc007c', '#de007c', '#e0007b', '#e1027b', '#e3047a', '#e4067a', '#e60879', '#e70a78', '#e80d78', '#ea0f77', '#eb1177', '#ed1476', '#ee1675', '#ef1875', '#f11a74', '#f21c74', '#f31e73', '#f42072', '#f52272', '#f72471', '#f82670', '#f92870', '#fa2a6f', '#fb2c6e', '#fc2e6d', '#fd306d', '#fe326c', '#ff346b', '#ff366b', '#ff386a', '#ff3a69', '#ff3c68', '#ff3e67', '#ff4067', '#ff4266', '#ff4465', '#ff4764', '#ff4964', '#ff4b63', '#ff4d62', '#ff4f61', '#ff5160', '#ff535f', '#ff565f', '#ff585e', '#ff5a5d', '#ff5c5c', '#ff5e5b', '#ff605a', '#ff6359', '#ff6558', '#ff6757', '#ff6956', '#ff6b55', '#ff6d54', '#ff6f53', '#ff7152', '#ff7351', '#ff7550', '#ff774f', '#ff794e', '#ff7b4d', '#ff7d4c', '#ff7f4b', '#ff814a', '#ff8348', '#ff8447', '#ff8646', '#ff8845', '#ff8a44', '#ff8c42', '#ff8d41', '#ff8f40', '#ff913e', '#ff923d', '#ff943c', '#ff963a', '#ff9739', '#ff9937', '#ff9b36', '#ff9c34', '#ff9e33', '#ffa031', '#ffa130', '#ffa32e', '#ffa42d', '#ffa62c', '#ffa72b', '#ffa92a', '#ffaa29', '#ffac28', '#ffad27', '#ffaf26', '#ffb025', '#ffb224', '#ffb324', '#ffb523', '#ffb622', '#ffb722', '#ffb921', '#ffba20', '#ffbc20', '#ffbd1f', '#ffbe1f', '#ffc01f', '#ffc11e', '#ffc21e', '#ffc41d', '#ffc51d', '#ffc71d', '#ffc81d', '#ffc91c', '#ffcb1c', '#ffcc1c', '#ffcd1c', '#ffcf1c', '#ffd01c', '#ffd11c', '#ffd31c', '#ffd41c', '#ffd51c', '#ffd71c', '#ffd81c', '#ffd91c', '#ffdb1c', '#ffdc1d', '#ffdd1d', '#ffde1d', '#ffe01d', '#ffe11e', '#ffe21e', '#ffe41e', '#ffe51f', '#ffe61f', '#ffe81f', '#ffe920', '#ffea20', '#ffec21', '#ffed21', '#ffee22', '#ffef22', '#fff123']\",\"bmy\"],[\"['#000000', '#010101', '#020202', '#040404', '#050505', '#070707', '#080808', '#0a0a0a', '#0b0b0b', '#0c0c0c', '#0d0d0d', '#0e0e0e', '#101010', '#111111', '#121212', '#121312', '#131313', '#141414', '#151515', '#161616', '#171717', '#171717', '#181818', '#191919', '#1a1a1a', '#1b1b1b', '#1b1b1b', '#1c1c1c', '#1d1d1d', '#1e1e1e', '#1f1f1f', '#1f1f1f', '#202020', '#212121', '#222222', '#232323', '#232323', '#242424', '#252525', '#262626', '#272727', '#272727', '#282828', '#292929', '#2a2a2a', '#2b2b2b', '#2c2c2c', '#2c2c2c', '#2d2d2d', '#2e2e2e', '#2f2f2f', '#303030', '#313131', '#313131', '#323232', '#333333', '#343434', '#353535', '#363636', '#373737', '#383838', '#383838', '#393939', '#3a3a3a', '#3b3b3b', '#3c3c3c', '#3d3d3d', '#3e3e3e', '#3f3f3f', '#3f3f3f', '#404040', '#414141', '#424242', '#434343', '#444444', '#454545', '#464646', '#474747', '#474747', '#484848', '#494949', '#4a4a4a', '#4b4b4b', '#4c4c4c', '#4d4d4d', '#4e4e4e', '#4f4f4f', '#505050', '#515151', '#525252', '#525252', '#535353', '#545454', '#555555', '#565656', '#575757', '#585858', '#595959', '#5a5a5a', '#5b5b5b', '#5c5c5c', '#5d5d5d', '#5e5e5e', '#5f5f5f', '#606060', '#616161', '#626262', '#626262', '#636363', '#646464', '#656565', '#666666', '#676767', '#686868', '#696969', '#6a6a6a', '#6b6b6b', '#6c6c6c', '#6d6d6d', '#6e6e6e', '#6f6f6f', '#707070', '#717171', '#727272', '#737373', '#747474', '#757575', '#767676', '#777777', '#787878', '#797979', '#7a7a7a', '#7b7b7b', '#7c7c7c', '#7d7d7d', '#7e7e7e', '#7f7f7f', '#808080', '#818181', '#828282', '#838383', '#848484', '#858585', '#868686', '#878787', '#888888', '#898989', '#8a8a8a', '#8b8b8b', '#8c8c8c', '#8d8d8d', '#8e8e8e', '#8f8f8f', '#909090', '#919191', '#929292', '#939393', '#949494', '#959595', '#969696', '#979797', '#989898', '#999999', '#9a9a9a', '#9b9b9b', '#9c9c9c', '#9d9d9d', '#9e9f9f', '#a0a0a0', '#a1a1a1', '#a2a2a2', '#a3a3a3', '#a4a4a4', '#a5a5a5', '#a6a6a6', '#a7a7a7', '#a8a8a8', '#a9a9a9', '#aaaaaa', '#ababab', '#acacac', '#adadad', '#aeaeae', '#afafaf', '#b0b0b0', '#b1b1b1', '#b2b3b2', '#b4b4b4', '#b5b5b5', '#b6b6b6', '#b7b7b7', '#b8b8b8', '#b9b9b9', '#bababa', '#bbbbbb', '#bcbcbc', '#bdbdbd', '#bebebe', '#bfbfbf', '#c0c0c0', '#c1c2c2', '#c3c3c3', '#c4c4c4', '#c5c5c5', '#c6c6c6', '#c7c7c7', '#c8c8c8', '#c9c9c9', '#cacaca', '#cbcbcb', '#cccccc', '#cdcdcd', '#cfcfcf', '#d0d0d0', '#d1d1d1', '#d2d2d2', '#d3d3d3', '#d4d4d4', '#d5d5d5', '#d6d6d6', '#d7d7d7', '#d8d8d8', '#d9dada', '#dbdbdb', '#dcdcdc', '#dddddd', '#dedede', '#dfdfdf', '#e0e0e0', '#e1e1e1', '#e2e2e2', '#e3e4e4', '#e5e5e5', '#e6e6e6', '#e7e7e7', '#e8e8e8', '#e9e9e9', '#eaeaea', '#ebebeb', '#ececec', '#eeeeee', '#efefef', '#f0f0f0', '#f1f1f1', '#f2f2f2', '#f3f3f3', '#f4f4f4', '#f5f5f5', '#f7f7f7', '#f8f8f8', '#f9f9f9', '#fafafa', '#fbfbfb', '#fcfcfc', '#fdfdfd', '#feffff']\",\"gray\"]],\"sizing_mode\":\"stretch_width\",\"title\":\"Colormap\",\"value\":\"['#00004e', '#000150', '#000152', '#000154', '#000255', '#000257', '#000259', '#00025b', '#00025d', '#00025f', '#010261', '#010263', '#020265', '#030267', '#030269', '#04026c', '#05026e', '#060270', '#060272', '#070274', '#080276', '#090178', '#09017a', '#0a017c', '#0b017e', '#0b0181', '#0c0183', '#0d0185', '#0d0187', '#0e0189', '#0e018b', '#0f018e', '#0f0190', '#0f0192', '#100194', '#100197', '#100199', '#10019b', '#10019d', '#1001a0', '#0f01a2', '#0f02a4', '#0e02a7', '#0e02a9', '#0d02ab', '#0c03ae', '#0b03b0', '#0a04b2', '#0a04b5', '#0904b7', '#0905b9', '#0806bb', '#0806bd', '#0707bf', '#0707c2', '#0708c4', '#0709c6', '#070ac8', '#070bca', '#080ccc', '#080dce', '#090dd0', '#0a0ed1', '#0b0fd3', '#0c10d5', '#0d11d7', '#0e12d9', '#0f13db', '#1014dc', '#1215de', '#1316e0', '#1417e1', '#1618e3', '#1719e5', '#181ae6', '#1a1be7', '#1b1ce9', '#1c1eea', '#1d1feb', '#1e20ed', '#1f22ee', '#2023ef', '#2124f0', '#2226f1', '#2327f2', '#2429f3', '#252af4', '#252cf5', '#262ef5', '#272ff6', '#2831f7', '#2832f7', '#2934f8', '#2a36f8', '#2a37f9', '#2b39f9', '#2b3bf9', '#2c3dfa', '#2c3efa', '#2d40fa', '#2d42fa', '#2d43fa', '#2d45fa', '#2e47fa', '#2e48fb', '#2e4afb', '#2e4cfb', '#2f4dfb', '#2f4ffb', '#2f50fb', '#2f52fb', '#2f53fb', '#2f55fb', '#2f57fb', '#2f58fb', '#2f5afc', '#2f5bfc', '#2f5dfc', '#2f5efc', '#2f5ffc', '#2f61fc', '#2f62fc', '#2e64fc', '#2e65fc', '#2e67fc', '#2e68fc', '#2d6afc', '#2d6bfd', '#2d6cfd', '#2c6efd', '#2c6ffd', '#2c71fd', '#2c72fd', '#2b73fd', '#2b75fd', '#2b76fd', '#2b77fd', '#2b79fd', '#2b7afd', '#2b7bfd', '#2b7dfd', '#2b7efd', '#2b7ffd', '#2b81fd', '#2c82fd', '#2c83fd', '#2c84fd', '#2c86fd', '#2d87fd', '#2d88fd', '#2e8afd', '#2e8bfd', '#2f8cfd', '#2f8dfd', '#308ffd', '#3090fd', '#3191fd', '#3292fd', '#3293fd', '#3395fd', '#3396fd', '#3497fd', '#3498fd', '#349afd', '#359bfc', '#359cfc', '#359dfc', '#359ffc', '#35a0fc', '#35a1fc', '#35a3fc', '#35a4fc', '#35a5fc', '#35a6fc', '#35a8fc', '#35a9fc', '#34aafc', '#34abfc', '#34adfc', '#33aefc', '#33affc', '#32b0fc', '#32b2fc', '#31b3fc', '#30b4fc', '#2fb6fc', '#2fb7fc', '#2eb8fc', '#2db9fc', '#2dbbfc', '#2cbcfc', '#2bbdfc', '#2bbffb', '#2ac0fb', '#2ac1fb', '#29c2fb', '#29c4fb', '#29c5fb', '#29c6fb', '#28c7fb', '#28c8fb', '#28cafb', '#28cbfb', '#28ccfb', '#28cdfb', '#29cffb', '#29d0fb', '#29d1fa', '#2ad2fa', '#2ad3fa', '#2bd5fa', '#2bd6fa', '#2cd7fa', '#2dd8fa', '#2ed9fa', '#30dbfa', '#32dcf9', '#35ddf9', '#38def9', '#3bdff9', '#3ee0f9', '#42e1f9', '#45e2f9', '#49e3f9', '#4ce4f9', '#50e5f9', '#53e6f8', '#57e7f8', '#5ae8f8', '#5ee9f8', '#61eaf8', '#65ebf8', '#68ecf8', '#6cecf8', '#6fedf8', '#73eef7', '#76eff7', '#79f0f7', '#7df1f7', '#80f2f7', '#83f2f7', '#87f3f7', '#8af4f7', '#8df5f6', '#90f6f6', '#93f7f6', '#97f7f6', '#9af8f6', '#9df9f6', '#a0faf6', '#a3faf6', '#a6fbf6', '#a9fcf5', '#adfdf5', '#b0fef5', '#b3fef5']\"},\"id\":\"1835\",\"type\":\"Select\"}],\"root_ids\":[\"1835\",\"1836\"]},\"title\":\"Bokeh Application\",\"version\":\"2.3.2\"}};\n",
       "    var render_items = [{\"docid\":\"c7aa6130-345b-4a87-a61c-523ae05b51eb\",\"root_ids\":[\"1835\"],\"roots\":{\"1835\":\"65071c17-259b-4366-ad1c-85237b8f019e\"}}];\n",
       "    root.Bokeh.embed.embed_items_notebook(docs_json, render_items);\n",
       "  }\n",
       "  if (root.Bokeh !== undefined && root.Bokeh.Panel !== undefined) {\n",
       "    embed_document(root);\n",
       "  } else {\n",
       "    var attempts = 0;\n",
       "    var timer = setInterval(function(root) {\n",
       "      if (root.Bokeh !== undefined && root.Bokeh.Panel !== undefined) {\n",
       "        clearInterval(timer);\n",
       "        embed_document(root);\n",
       "      } else if (document.readyState == \"complete\") {\n",
       "        attempts++;\n",
       "        if (attempts > 200) {\n",
       "          clearInterval(timer);\n",
       "          console.log(\"Bokeh: ERROR: Unable to run BokehJS code because BokehJS library is missing\");\n",
       "        }\n",
       "      }\n",
       "    }, 25, root)\n",
       "  }\n",
       "})(window);</script>"
      ],
      "text/plain": [
       "Select(name='Colormap', options={'kbc': ['#00004e', ...}, sizing_mode='stretch_width', value=['#00004e', '#000150', ...])"
      ]
     },
     "execution_count": 58,
     "metadata": {
      "application/vnd.holoviews_exec.v0+json": {
       "id": "1835"
      }
     },
     "output_type": "execute_result"
    }
   ],
   "source": [
    "import colorcet as cc\n",
    "cmaps  = {n: cc.palette[n] for n in ['kbc', 'fire', 'bgy', 'bgyw', 'bmy', 'gray', 'kbc']}\n",
    "pn.widgets.Select(name='Colormap', options=cmaps)"
   ]
  },
  {
   "cell_type": "code",
   "execution_count": null,
   "id": "7f2c9d8b-3ebf-485d-b012-9df3b334fd79",
   "metadata": {},
   "outputs": [],
   "source": []
  }
 ],
 "metadata": {
  "kernelspec": {
   "display_name": "Python 3",
   "language": "python",
   "name": "python3"
  },
  "language_info": {
   "codemirror_mode": {
    "name": "ipython",
    "version": 3
   },
   "file_extension": ".py",
   "mimetype": "text/x-python",
   "name": "python",
   "nbconvert_exporter": "python",
   "pygments_lexer": "ipython3",
   "version": "3.7.7"
  }
 },
 "nbformat": 4,
 "nbformat_minor": 5
}
