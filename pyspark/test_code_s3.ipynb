{
 "cells": [
  {
   "cell_type": "code",
   "execution_count": 1,
   "metadata": {},
   "outputs": [],
   "source": [
    "import pyspark\n",
    "from pyspark.sql import SparkSession"
   ]
  },
  {
   "cell_type": "code",
   "execution_count": 2,
   "metadata": {},
   "outputs": [],
   "source": [
    "import os\n",
    "os.environ['PYSPARK_SUBMIT_ARGS'] = \"--packages=org.apache.hadoop:hadoop-aws:2.7.3 pyspark-shell\""
   ]
  },
  {
   "cell_type": "code",
   "execution_count": 3,
   "metadata": {},
   "outputs": [
    {
     "name": "stdout",
     "output_type": "stream",
     "text": [
      "['default']\n",
      "['aws_access_key_id', 'aws_secret_access_key']\n"
     ]
    }
   ],
   "source": [
    "import configparser\n",
    "\n",
    "config = configparser.ConfigParser()\n",
    "config.read(os.path.expanduser(\"~/.aws/credentials\"))\n",
    "print(config.sections())\n",
    "print(config.options('default'))\n",
    "access_id = config.get('default', \"aws_access_key_id\") \n",
    "access_key = config.get('default', \"aws_secret_access_key\")"
   ]
  },
  {
   "cell_type": "code",
   "execution_count": 4,
   "metadata": {},
   "outputs": [],
   "source": [
    "from pyspark import SparkContext\n",
    "sc = SparkContext(\"local\", \"s3 test\")"
   ]
  },
  {
   "cell_type": "code",
   "execution_count": 5,
   "metadata": {},
   "outputs": [],
   "source": [
    "hadoop_conf = sc._jsc.hadoopConfiguration()\n",
    "hadoop_conf.set(\"fs.s3n.impl\", \"org.apache.hadoop.fs.s3native.NativeS3FileSystem\")\n",
    "hadoop_conf.set(\"fs.s3n.awsAccessKeyId\", access_id)\n",
    "hadoop_conf.set(\"fs.s3n.awsSecretAccessKey\", access_key)"
   ]
  },
  {
   "cell_type": "code",
   "execution_count": 6,
   "metadata": {},
   "outputs": [],
   "source": [
    "from pyspark.sql import SQLContext\n",
    "\n",
    "sqlc = SQLContext(sc)"
   ]
  },
  {
   "cell_type": "code",
   "execution_count": 7,
   "metadata": {},
   "outputs": [
    {
     "name": "stdout",
     "output_type": "stream",
     "text": [
      "root\n",
      " |-- Report Date: string (nullable = true)\n",
      " |-- Borough: string (nullable = true)\n",
      " |-- Community Districts: string (nullable = true)\n",
      " |-- Census Type: string (nullable = true)\n",
      " |-- Adult Family Commercial Hotel: string (nullable = true)\n",
      " |-- Adult Family Shelter: string (nullable = true)\n",
      " |-- Adult Shelter: string (nullable = true)\n",
      " |-- Adult Shelter Commercial Hotel: string (nullable = true)\n",
      " |-- Family Cluster: string (nullable = true)\n",
      " |-- Family with Children Commercial Hotel: string (nullable = true)\n",
      " |-- Family with Children Shelter: string (nullable = true)\n",
      "\n"
     ]
    }
   ],
   "source": [
    "df = sqlc.read.options(header = True).csv(\"s3n://celestopolis/census_data_1/Individual_Census_by_Borough__Community_District__and_Facility_Type.csv\")\n",
    "df.printSchema()\n"
   ]
  },
  {
   "cell_type": "code",
   "execution_count": 36,
   "metadata": {},
   "outputs": [
    {
     "name": "stdout",
     "output_type": "stream",
     "text": [
      "+-----------+-------+-------------------+-----------+-----------------------------+--------------------+-------------+------------------------------+--------------+-------------------------------------+----------------------------+\n",
      "|Report Date|Borough|Community Districts|Census Type|Adult Family Commercial Hotel|Adult Family Shelter|Adult Shelter|Adult Shelter Commercial Hotel|Family Cluster|Family with Children Commercial Hotel|Family with Children Shelter|\n",
      "+-----------+-------+-------------------+-----------+-----------------------------+--------------------+-------------+------------------------------+--------------+-------------------------------------+----------------------------+\n",
      "| 10/31/2020|  Bronx|                  1|Individuals|                         null|                 189|           73|                           140|            31|                                   64|                        1202|\n",
      "| 10/31/2020|  Bronx|                  2|Individuals|                         null|                 160|            0|                          null|           204|                                 null|                         866|\n",
      "| 10/31/2020|  Bronx|                  3|Individuals|                         null|                 258|          218|                           123|            62|                                  115|                        1295|\n",
      "| 10/31/2020|  Bronx|                  4|Individuals|                         null|                null|          206|                            99|           910|                                 null|                        2134|\n",
      "| 10/31/2020|  Bronx|                  5|Individuals|                         null|                 203|            0|                          null|           755|                                 null|                        1054|\n",
      "| 10/31/2020|  Bronx|                  6|Individuals|                         null|                  66|           33|                          null|           205|                                 null|                        1898|\n",
      "| 10/31/2020|  Bronx|                  7|Individuals|                         null|                  99|          101|                          null|           234|                                 null|                         275|\n",
      "| 10/31/2020|  Bronx|                  8|Individuals|                         null|                null|         null|                          null|          null|                                 null|                         233|\n",
      "| 10/31/2020|  Bronx|                  9|Individuals|                         null|                null|           50|                          null|           167|                                 null|                         752|\n",
      "| 10/31/2020|  Bronx|                 10|Individuals|                         null|                null|         null|                          null|          null|                                 null|                         591|\n",
      "+-----------+-------+-------------------+-----------+-----------------------------+--------------------+-------------+------------------------------+--------------+-------------------------------------+----------------------------+\n",
      "only showing top 10 rows\n",
      "\n"
     ]
    }
   ],
   "source": [
    "df.show(10)"
   ]
  },
  {
   "cell_type": "code",
   "execution_count": 39,
   "metadata": {},
   "outputs": [
    {
     "name": "stdout",
     "output_type": "stream",
     "text": [
      "+-------------+---------+\n",
      "|      Borough|n_entries|\n",
      "+-------------+---------+\n",
      "|       Queens|      420|\n",
      "|     Brooklyn|      540|\n",
      "|Staten Island|       90|\n",
      "|    Manhattan|      360|\n",
      "|        Bronx|      360|\n",
      "+-------------+---------+\n",
      "\n"
     ]
    }
   ],
   "source": [
    "df.registerTempTable(\"example\")\n",
    "sqlc.sql(\"select Borough, count(*) as n_entries from example group by 1\").show(10)"
   ]
  },
  {
   "cell_type": "code",
   "execution_count": null,
   "metadata": {},
   "outputs": [],
   "source": []
  }
 ],
 "metadata": {
  "kernelspec": {
   "display_name": "Python 3",
   "language": "python",
   "name": "python3"
  },
  "language_info": {
   "codemirror_mode": {
    "name": "ipython",
    "version": 3
   },
   "file_extension": ".py",
   "mimetype": "text/x-python",
   "name": "python",
   "nbconvert_exporter": "python",
   "pygments_lexer": "ipython3",
   "version": "3.7.9"
  }
 },
 "nbformat": 4,
 "nbformat_minor": 4
}
